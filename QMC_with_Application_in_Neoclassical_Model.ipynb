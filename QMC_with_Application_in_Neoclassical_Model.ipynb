{
  "nbformat": 4,
  "nbformat_minor": 0,
  "metadata": {
    "colab": {
      "provenance": []
    },
    "kernelspec": {
      "name": "python3",
      "display_name": "Python 3"
    },
    "language_info": {
      "name": "python"
    }
  },
  "cells": [
    {
      "cell_type": "markdown",
      "source": [
        "Packages"
      ],
      "metadata": {
        "id": "6N6drwyGJu_W"
      }
    },
    {
      "cell_type": "code",
      "source": [
        "import pennylane as qml\n",
        "import numpy as np\n",
        "from scipy.stats import norm"
      ],
      "metadata": {
        "id": "tZLttudOJ-EG"
      },
      "execution_count": null,
      "outputs": []
    },
    {
      "cell_type": "markdown",
      "source": [
        "Parameters"
      ],
      "metadata": {
        "id": "RRKsqczMJ_p3"
      }
    },
    {
      "cell_type": "code",
      "source": [
        "m = 5  # Number of qubits for discretization\n",
        "n = 6  # Number of estimation qubits\n",
        "\n",
        "# Discretization and scaling constants\n",
        "M = 2 ** m                      # Total discretization points\n",
        "N = 2 ** n                      # Applications of Q operator\n",
        "x_max = 1.06                    # Maximum x value\n",
        "x_min = 0.94                    # Minimum x value\n",
        "c_s = np.power(3 * np.pi / N, 1 / 3)  # Scaling constant\n",
        "\n",
        "# Rescale parameters\n",
        "a = 2 * c_s / (M - 1)  # Scaling factor for f(i)\n",
        "b = -c_s               # Offset for f(i)\n",
        "\n",
        "# Generate x values and probabilities\n",
        "x = np.linspace(-np.pi, np.pi, M)\n",
        "p = np.array([norm(loc=0, scale=1).pdf(x_i) for x_i in x])  # Gaussian PDF\n",
        "p /= np.sum(p)  # Normalize to form a probability distribution\n",
        "\n",
        "\n",
        "def f(i):\n",
        "    return a * i + b  # Linear transformation of index i\n",
        "\n",
        "ancilla_qubit = m  # Ancilla qubit for rotations\n",
        "a_qubits = range(m)  # Data qubits for discretization\n",
        "\n",
        "def F():\n",
        "    # Apply A - probability encoding unitary\n",
        "    # Assume A(theta) is pre-trained and provided externally\n",
        "    A(theta)\n",
        "\n",
        "    # Apply controlled-Y rotations for R\n",
        "    qml.RY(np.pi / 2, wires=ancilla_qubit)\n",
        "    qml.RY(2 * b, wires=ancilla_qubit)\n",
        "    for qubit in a_qubits:\n",
        "        phi = 2 ** (m - qubit) * a\n",
        "        qml.CRY(phi, wires=[qubit, ancilla_qubit])"
      ],
      "metadata": {
        "id": "bY5XSN-5KDgf"
      },
      "execution_count": null,
      "outputs": []
    },
    {
      "cell_type": "markdown",
      "source": [
        "QMC Circuit"
      ],
      "metadata": {
        "id": "E1Ava2kqKIJc"
      }
    },
    {
      "cell_type": "code",
      "execution_count": null,
      "metadata": {
        "id": "cM741Us7Jc9a"
      },
      "outputs": [],
      "source": [
        "# Define qubit ranges\n",
        "qubits = range(m)  # State preparation qubits\n",
        "est_qubits = range(m + 1, n + m + 1)  # Estimation qubits\n",
        "\n",
        "# Create a quantum device\n",
        "n_qubits = m + n + 1  # Total qubits required\n",
        "dev = qml.device(\"default.qubit\", wires=n_qubits)\n",
        "\n",
        "# Quantum Monte Carlo Circuit\n",
        "@qml.qnode(dev)\n",
        "def qmc():\n",
        "    qml.quantum_monte_carlo(\n",
        "        F,              # Oracle\n",
        "        qubits,         # Probability qubits\n",
        "        ancilla_qubit,  # Ancilla qubit\n",
        "        est_qubits      # Estimation qubits\n",
        "    )\n",
        "    return qml.probs(est_qubits)  # Return probability estimates\n",
        "\n",
        "\n",
        "# Execute the QMC circuit\n",
        "p_est = qmc()\n",
        "\n",
        "# Display results\n",
        "print(\"Estimated Probabilities:\", p_est)\n",
        "\n",
        "# Analyze resource usage\n",
        "expanded_tape = qmc.qtape.expand(depth=10)\n",
        "specs = expanded_tape.specs\n",
        "\n",
        "# Print circuit specs\n",
        "print(\"Quantum Circuit Specifications:\")\n",
        "print(specs)\n"
      ]
    }
  ]
}